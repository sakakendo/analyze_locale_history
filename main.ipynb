{
 "cells": [
  {
   "cell_type": "code",
   "execution_count": 128,
   "metadata": {},
   "outputs": [
    {
     "name": "stdout",
     "output_type": "stream",
     "text": [
      "Requirement already satisfied: requests in ./venv/lib/python3.6/site-packages\n",
      "Requirement already satisfied: requests_oauthlib in ./venv/lib/python3.6/site-packages\n",
      "Requirement already satisfied: foursquare in ./venv/lib/python3.6/site-packages\n",
      "Collecting python-dotenv\n",
      "  Downloading https://files.pythonhosted.org/packages/57/c8/5b14d5cffe7bb06bedf9d66c4562bf90330d3d35e7f0266928c370d9dd6d/python_dotenv-0.10.3-py2.py3-none-any.whl\n",
      "Requirement already satisfied: certifi>=2017.4.17 in ./venv/lib/python3.6/site-packages (from requests)\n",
      "Requirement already satisfied: idna<2.9,>=2.5 in ./venv/lib/python3.6/site-packages (from requests)\n",
      "Requirement already satisfied: urllib3!=1.25.0,!=1.25.1,<1.26,>=1.21.1 in ./venv/lib/python3.6/site-packages (from requests)\n",
      "Requirement already satisfied: chardet<3.1.0,>=3.0.2 in ./venv/lib/python3.6/site-packages (from requests)\n",
      "Requirement already satisfied: oauthlib>=3.0.0 in ./venv/lib/python3.6/site-packages (from requests_oauthlib)\n",
      "Requirement already satisfied: six in ./venv/lib/python3.6/site-packages (from foursquare)\n",
      "Installing collected packages: python-dotenv\n",
      "Successfully installed python-dotenv-0.10.3\n"
     ]
    },
    {
     "data": {
      "text/plain": [
       "True"
      ]
     },
     "execution_count": 128,
     "metadata": {},
     "output_type": "execute_result"
    }
   ],
   "source": [
    "!pip3 install requests requests_oauthlib foursquare python-dotenv\n",
    "import datetime\n",
    "import folium\n",
    "import foursquare\n",
    "import json\n",
    "import numpy as np\n",
    "import os\n",
    "import pandas as pd\n",
    "import requests\n",
    "import time\n",
    "\n",
    "from folium.plugins import HeatMap,MarkerCluster\n",
    "\n",
    "from datetime import date\n",
    "from dotenv import load_dotenv\n",
    "from pandas.io.json import json_normalize\n",
    "from requests_oauthlib import OAuth1Session\n",
    "from IPython.display import Image,display_jpeg\n",
    "\n",
    "load_dotenv()"
   ]
  },
  {
   "cell_type": "code",
   "execution_count": 3,
   "metadata": {},
   "outputs": [],
   "source": [
    "# pandas read file\n",
    "data=pd.read_json(\"./ロケーション履歴/ロケーション履歴.json\",\"r\")\n",
    "\n",
    "# normalize json to column\n",
    "d=json_normalize(data['locations'])\n",
    "\n",
    "d[\"date\"]=d[\"timestampMs\"].apply(lambda x : datetime.datetime.utcfromtimestamp(int(x)/1000))\n",
    "d[\"lat\"]=d[\"latitudeE7\"].apply(lambda x:x*10**-7)\n",
    "d[\"long\"]=d[\"longitudeE7\"].apply(lambda x:x*10**-7)\n",
    "\n"
   ]
  },
  {
   "cell_type": "code",
   "execution_count": 124,
   "metadata": {},
   "outputs": [],
   "source": [
    "\n",
    "loc_d=d[['lat','long']].values.tolist()\n",
    "\n",
    "m=folium.Map()\n",
    "HeatMap(loc_d,radius=15).add_to(m)\n",
    "\n",
    "m.save('heatmap.html')"
   ]
  },
  {
   "cell_type": "code",
   "execution_count": null,
   "metadata": {},
   "outputs": [],
   "source": [
    "# foursquare\n",
    "# get oauth token\n",
    "\n",
    "# 作成したアプリの情報を設定\n",
    "CLIENT_ID = os.environ.get(\"CLIENT_ID\")\n",
    "CLIENT_SECRET = os.environ.get(\"CLIENT_SECRET\")\n",
    "REDIRECT_URI = os.environ.get(\"REDIRECT_URI\")\n",
    "\n",
    "\n",
    "client = foursquare.Foursquare(client_id=CLIENT_ID, client_secret=CLIENT_SECRET, redirect_uri=REDIRECT_URI)\n",
    "auth_uri = client.oauth.auth_url()\n",
    "print(auth_uri)\n",
    "\n",
    "# 表示されたauth_uriにブラウザからアクセスし、URIの「?code=」の後から「#」の前までの文字列を入力\n",
    "code=input(\"INPUT CODE:\")\n",
    "# アクセストークンを取得\n",
    "access_token = client.oauth.get_token(code)\n",
    "print(access_token)\n",
    "\n",
    "# アクセストークンを設定\n",
    "client.set_access_token(access_token)\n",
    "\n",
    "# 試しに自分のユーザ情報出力する\n",
    "# ユーザ情報が表示されたら無事成功\n",
    "user = client.users()\n",
    "# print(user)"
   ]
  },
  {
   "cell_type": "code",
   "execution_count": 38,
   "metadata": {},
   "outputs": [],
   "source": [
    "checkins_ =client.users.all_checkins()\n",
    "checkins =list(checkins_)\n",
    "\n",
    "checkin_df=pd.DataFrame.from_dict(checkins)\n",
    "checkin_df['time']= checkin_df['createdAt'].apply(lambda x: datetime.datetime.fromtimestamp(x))"
   ]
  },
  {
   "cell_type": "code",
   "execution_count": 125,
   "metadata": {},
   "outputs": [],
   "source": [
    "\n",
    "for venue in checkin_df['venue']:\n",
    "    try:\n",
    "        lat,lng=venue['location']['lat'],venue['location']['lng']\n",
    "        folium.Marker(\n",
    "            location=[lat,lng],\n",
    "            popup=\"\"\n",
    "        ).add_to(m)\n",
    "\n",
    "    except:\n",
    "        pass\n",
    "\n",
    "m.save('heatmap3.html')"
   ]
  }
 ],
 "metadata": {
  "kernelspec": {
   "display_name": "Python 2",
   "language": "python",
   "name": "python2"
  },
  "language_info": {
   "codemirror_mode": {
    "name": "ipython",
    "version": 3
   },
   "file_extension": ".py",
   "mimetype": "text/x-python",
   "name": "python",
   "nbconvert_exporter": "python",
   "pygments_lexer": "ipython3",
   "version": "3.6.8"
  }
 },
 "nbformat": 4,
 "nbformat_minor": 2
}
